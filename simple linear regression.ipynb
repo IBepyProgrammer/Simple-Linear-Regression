{
 "cells": [
  {
   "cell_type": "code",
   "execution_count": 1,
   "id": "83da108f",
   "metadata": {},
   "outputs": [],
   "source": [
    "import pandas as pd\n",
    "import matplotlib.pyplot as plt\n",
    "%matplotlib inline\n",
    "import numpy as np\n",
    "import seaborn as sns\n",
    "import statsmodels.api as sm\n",
    "from sklearn.model_selection import train_test_split\n",
    "from sklearn.metrics import r2_score, mean_squared_error"
   ]
  },
  {
   "cell_type": "code",
   "execution_count": 2,
   "id": "fcb971b3",
   "metadata": {},
   "outputs": [],
   "source": [
    "dataSet = pd.read_csv("Book1.csv")"
   ]
  },
  {
   "cell_type": "code",
   "execution_count": 3,
   "id": "a6aeee98",
   "metadata": {},
   "outputs": [
    {
     "name": "stdout",
     "output_type": "stream",
     "text": [
      "         Month  Production  Energy Concumption\n",
      "0      January         345                 120\n",
      "1     February         323                 115\n",
      "2        March         356                 125\n",
      "3        April         310                 112\n",
      "4         May          250                  89\n",
      "5        June          253                  86\n",
      "6        July          432                 145\n",
      "7       August         440                 150\n",
      "8   September          423                 140\n",
      "9      October         543                 180\n",
      "10   November          467                 169\n",
      "11    December         487                 178\n"
     ]
    }
   ],
   "source": [
    "print(dataSet)"
   ]
  },
  {
   "cell_type": "code",
   "execution_count": 4,
   "id": "d6e2447a",
   "metadata": {},
   "outputs": [
    {
     "data": {
      "text/html": [
       "<div>\n",
       "<style scoped>\n",
       "    .dataframe tbody tr th:only-of-type {\n",
       "        vertical-align: middle;\n",
       "    }\n",
       "\n",
       "    .dataframe tbody tr th {\n",
       "        vertical-align: top;\n",
       "    }\n",
       "\n",
       "    .dataframe thead th {\n",
       "        text-align: right;\n",
       "    }\n",
       "</style>\n",
       "<table border=\"1\" class=\"dataframe\">\n",
       "  <thead>\n",
       "    <tr style=\"text-align: right;\">\n",
       "      <th></th>\n",
       "      <th>Month</th>\n",
       "      <th>Production</th>\n",
       "      <th>Energy Concumption</th>\n",
       "    </tr>\n",
       "  </thead>\n",
       "  <tbody>\n",
       "    <tr>\n",
       "      <th>0</th>\n",
       "      <td>January</td>\n",
       "      <td>345</td>\n",
       "      <td>120</td>\n",
       "    </tr>\n",
       "    <tr>\n",
       "      <th>1</th>\n",
       "      <td>February</td>\n",
       "      <td>323</td>\n",
       "      <td>115</td>\n",
       "    </tr>\n",
       "    <tr>\n",
       "      <th>2</th>\n",
       "      <td>March</td>\n",
       "      <td>356</td>\n",
       "      <td>125</td>\n",
       "    </tr>\n",
       "    <tr>\n",
       "      <th>3</th>\n",
       "      <td>April</td>\n",
       "      <td>310</td>\n",
       "      <td>112</td>\n",
       "    </tr>\n",
       "    <tr>\n",
       "      <th>4</th>\n",
       "      <td>May</td>\n",
       "      <td>250</td>\n",
       "      <td>89</td>\n",
       "    </tr>\n",
       "  </tbody>\n",
       "</table>\n",
       "</div>"
      ],
      "text/plain": [
       "      Month  Production  Energy Concumption\n",
       "0   January         345                 120\n",
       "1  February         323                 115\n",
       "2     March         356                 125\n",
       "3     April         310                 112\n",
       "4      May          250                  89"
      ]
     },
     "execution_count": 4,
     "metadata": {},
     "output_type": "execute_result"
    }
   ],
   "source": [
    "dataSet.head()"
   ]
  },
  {
   "cell_type": "code",
   "execution_count": 5,
   "id": "93e3c94e",
   "metadata": {},
   "outputs": [
    {
     "name": "stdout",
     "output_type": "stream",
     "text": [
      "<class 'pandas.core.frame.DataFrame'>\n",
      "RangeIndex: 12 entries, 0 to 11\n",
      "Data columns (total 3 columns):\n",
      " #   Column              Non-Null Count  Dtype \n",
      "---  ------              --------------  ----- \n",
      " 0   Month               12 non-null     object\n",
      " 1   Production          12 non-null     int64 \n",
      " 2   Energy Concumption  12 non-null     int64 \n",
      "dtypes: int64(2), object(1)\n",
      "memory usage: 416.0+ bytes\n"
     ]
    }
   ],
   "source": [
    "dataSet.info()"
   ]
  },
  {
   "cell_type": "code",
   "execution_count": 6,
   "id": "efb561f3",
   "metadata": {},
   "outputs": [
    {
     "data": {
      "image/png": "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\n",
      "text/plain": [
       "<Figure size 640x480 with 2 Axes>"
      ]
     },
     "metadata": {},
     "output_type": "display_data"
    }
   ],
   "source": [
    "visualization = sns.heatmap(dataSet[[\"Production\",\"Energy Concumption\"]].corr(),annot = True)\n",
    "#The Correlation value lies between -1.0 and 1.0. The sign indicates whether there is a positive or negative correlation\n",
    "# -1.0 indicates a perfect negative correlation , whereas +1.0 indicates a perfect positive correlation"
   ]
  },
  {
   "cell_type": "code",
   "execution_count": 7,
   "id": "4b944096",
   "metadata": {},
   "outputs": [
    {
     "name": "stdout",
     "output_type": "stream",
     "text": [
      "(12, 2)\n",
      "(12,)\n"
     ]
    },
    {
     "data": {
      "text/html": [
       "<div>\n",
       "<style scoped>\n",
       "    .dataframe tbody tr th:only-of-type {\n",
       "        vertical-align: middle;\n",
       "    }\n",
       "\n",
       "    .dataframe tbody tr th {\n",
       "        vertical-align: top;\n",
       "    }\n",
       "\n",
       "    .dataframe thead th {\n",
       "        text-align: right;\n",
       "    }\n",
       "</style>\n",
       "<table border=\"1\" class=\"dataframe\">\n",
       "  <thead>\n",
       "    <tr style=\"text-align: right;\">\n",
       "      <th></th>\n",
       "      <th>const</th>\n",
       "      <th>Production</th>\n",
       "    </tr>\n",
       "  </thead>\n",
       "  <tbody>\n",
       "    <tr>\n",
       "      <th>0</th>\n",
       "      <td>1.0</td>\n",
       "      <td>345</td>\n",
       "    </tr>\n",
       "    <tr>\n",
       "      <th>1</th>\n",
       "      <td>1.0</td>\n",
       "      <td>323</td>\n",
       "    </tr>\n",
       "    <tr>\n",
       "      <th>2</th>\n",
       "      <td>1.0</td>\n",
       "      <td>356</td>\n",
       "    </tr>\n",
       "    <tr>\n",
       "      <th>3</th>\n",
       "      <td>1.0</td>\n",
       "      <td>310</td>\n",
       "    </tr>\n",
       "    <tr>\n",
       "      <th>4</th>\n",
       "      <td>1.0</td>\n",
       "      <td>250</td>\n",
       "    </tr>\n",
       "    <tr>\n",
       "      <th>5</th>\n",
       "      <td>1.0</td>\n",
       "      <td>253</td>\n",
       "    </tr>\n",
       "    <tr>\n",
       "      <th>6</th>\n",
       "      <td>1.0</td>\n",
       "      <td>432</td>\n",
       "    </tr>\n",
       "    <tr>\n",
       "      <th>7</th>\n",
       "      <td>1.0</td>\n",
       "      <td>440</td>\n",
       "    </tr>\n",
       "    <tr>\n",
       "      <th>8</th>\n",
       "      <td>1.0</td>\n",
       "      <td>423</td>\n",
       "    </tr>\n",
       "    <tr>\n",
       "      <th>9</th>\n",
       "      <td>1.0</td>\n",
       "      <td>543</td>\n",
       "    </tr>\n",
       "    <tr>\n",
       "      <th>10</th>\n",
       "      <td>1.0</td>\n",
       "      <td>467</td>\n",
       "    </tr>\n",
       "    <tr>\n",
       "      <th>11</th>\n",
       "      <td>1.0</td>\n",
       "      <td>487</td>\n",
       "    </tr>\n",
       "  </tbody>\n",
       "</table>\n",
       "</div>"
      ],
      "text/plain": [
       "    const  Production\n",
       "0     1.0         345\n",
       "1     1.0         323\n",
       "2     1.0         356\n",
       "3     1.0         310\n",
       "4     1.0         250\n",
       "5     1.0         253\n",
       "6     1.0         432\n",
       "7     1.0         440\n",
       "8     1.0         423\n",
       "9     1.0         543\n",
       "10    1.0         467\n",
       "11    1.0         487"
      ]
     },
     "execution_count": 7,
     "metadata": {},
     "output_type": "execute_result"
    }
   ],
   "source": [
    "# Identify the feature X and outcome Y in the dataFrame to build the model\n",
    "x = sm.add_constant(dataSet[\"Production\"])\n",
    "y = dataSet[\"Energy Concumption\"]\n",
    "print(x.shape)\n",
    "print(y.shape)\n",
    "x"
   ]
  },
  {
   "cell_type": "code",
   "execution_count": 8,
   "id": "4cd1e444",
   "metadata": {},
   "outputs": [
    {
     "name": "stdout",
     "output_type": "stream",
     "text": [
      "(9, 2)\n",
      "(3, 2)\n",
      "(9,)\n",
      "(3,)\n"
     ]
    }
   ],
   "source": [
    "x_train, x_test, y_train, y_test = train_test_split(x, y, train_size = 0.80, test_size = 0.2, random_state = 100)\n",
    "print(x_train.shape)\n",
    "print(x_test.shape)\n",
    "print(y_train.shape)\n",
    "print(y_test.shape)"
   ]
  },
  {
   "cell_type": "code",
   "execution_count": 9,
   "id": "bf641739",
   "metadata": {},
   "outputs": [],
   "source": [
    "# Fit the model using the training parameters\n",
    "data_lm = sm.OLS(y_train, x_train).fit()\n",
    "\n",
    "# from sklearn.linear_model import LinearRegression\n",
    "# lm = LinearRegression(fit_intercept = True)\n",
    "# data_lm = lm.fit(x_train, y_train)"
   ]
  },
  {
   "cell_type": "code",
   "execution_count": 10,
   "id": "2b192394",
   "metadata": {},
   "outputs": [],
   "source": [
    "# lm.coef_\n",
    "# lm.intercept_"
   ]
  },
  {
   "cell_type": "code",
   "execution_count": 11,
   "id": "73696b7e",
   "metadata": {},
   "outputs": [
    {
     "name": "stdout",
     "output_type": "stream",
     "text": [
      "const        -3.368829\n",
      "Production    0.360048\n",
      "dtype: float64\n"
     ]
    }
   ],
   "source": [
    "print(data_lm.params)"
   ]
  },
  {
   "cell_type": "code",
   "execution_count": 12,
   "id": "2ff2f0aa",
   "metadata": {},
   "outputs": [
    {
     "name": "stderr",
     "output_type": "stream",
     "text": [
      "C:\\Users\\SideEffect\\anaconda3\\lib\\site-packages\\scipy\\stats\\_stats_py.py:1769: UserWarning: kurtosistest only valid for n>=20 ... continuing anyway, n=9\n",
      "  warnings.warn(\"kurtosistest only valid for n>=20 ... continuing \"\n"
     ]
    },
    {
     "data": {
      "text/html": [
       "<table class=\"simpletable\">\n",
       "<tr>\n",
       "        <td>Model:</td>                <td>OLS</td>          <td>Adj. R-squared:</td>     <td>0.975</td> \n",
       "</tr>\n",
       "<tr>\n",
       "  <td>Dependent Variable:</td> <td>Energy Concumption</td>        <td>AIC:</td>          <td>56.6433</td>\n",
       "</tr>\n",
       "<tr>\n",
       "         <td>Date:</td>         <td>2024-03-11 17:07</td>         <td>BIC:</td>          <td>57.0377</td>\n",
       "</tr>\n",
       "<tr>\n",
       "   <td>No. Observations:</td>           <td>9</td>           <td>Log-Likelihood:</td>    <td>-26.322</td>\n",
       "</tr>\n",
       "<tr>\n",
       "       <td>Df Model:</td>               <td>1</td>            <td>F-statistic:</td>       <td>314.2</td> \n",
       "</tr>\n",
       "<tr>\n",
       "     <td>Df Residuals:</td>             <td>7</td>         <td>Prob (F-statistic):</td> <td>4.48e-07</td>\n",
       "</tr>\n",
       "<tr>\n",
       "      <td>R-squared:</td>             <td>0.978</td>             <td>Scale:</td>         <td>26.120</td> \n",
       "</tr>\n",
       "</table>\n",
       "<table class=\"simpletable\">\n",
       "<tr>\n",
       "       <td></td>       <th>Coef.</th>  <th>Std.Err.</th>    <th>t</th>     <th>P>|t|</th>  <th>[0.025</th>  <th>0.975]</th> \n",
       "</tr>\n",
       "<tr>\n",
       "  <th>const</th>      <td>-3.3688</td>  <td>7.7078</td>  <td>-0.4371</td> <td>0.6752</td> <td>-21.5949</td> <td>14.8573</td>\n",
       "</tr>\n",
       "<tr>\n",
       "  <th>Production</th> <td>0.3600</td>   <td>0.0203</td>  <td>17.7270</td> <td>0.0000</td>  <td>0.3120</td>  <td>0.4081</td> \n",
       "</tr>\n",
       "</table>\n",
       "<table class=\"simpletable\">\n",
       "<tr>\n",
       "     <td>Omnibus:</td>     <td>1.067</td>  <td>Durbin-Watson:</td>   <td>2.410</td>\n",
       "</tr>\n",
       "<tr>\n",
       "  <td>Prob(Omnibus):</td>  <td>0.587</td> <td>Jarque-Bera (JB):</td> <td>0.661</td>\n",
       "</tr>\n",
       "<tr>\n",
       "       <td>Skew:</td>     <td>-0.591</td>     <td>Prob(JB):</td>     <td>0.718</td>\n",
       "</tr>\n",
       "<tr>\n",
       "     <td>Kurtosis:</td>    <td>2.394</td>  <td>Condition No.:</td>   <td>1717</td> \n",
       "</tr>\n",
       "</table>"
      ],
      "text/plain": [
       "<class 'statsmodels.iolib.summary2.Summary'>\n",
       "\"\"\"\n",
       "                  Results: Ordinary least squares\n",
       "===================================================================\n",
       "Model:              OLS                Adj. R-squared:     0.975   \n",
       "Dependent Variable: Energy Concumption AIC:                56.6433 \n",
       "Date:               2024-03-11 17:07   BIC:                57.0377 \n",
       "No. Observations:   9                  Log-Likelihood:     -26.322 \n",
       "Df Model:           1                  F-statistic:        314.2   \n",
       "Df Residuals:       7                  Prob (F-statistic): 4.48e-07\n",
       "R-squared:          0.978              Scale:              26.120  \n",
       "--------------------------------------------------------------------\n",
       "                Coef.   Std.Err.     t     P>|t|    [0.025    0.975]\n",
       "--------------------------------------------------------------------\n",
       "const          -3.3688    7.7078  -0.4371  0.6752  -21.5949  14.8573\n",
       "Production      0.3600    0.0203  17.7270  0.0000    0.3120   0.4081\n",
       "-------------------------------------------------------------------\n",
       "Omnibus:               1.067         Durbin-Watson:           2.410\n",
       "Prob(Omnibus):         0.587         Jarque-Bera (JB):        0.661\n",
       "Skew:                  -0.591        Prob(JB):                0.718\n",
       "Kurtosis:              2.394         Condition No.:           1717 \n",
       "===================================================================\n",
       "* The condition number is large (2e+03). This might indicate\n",
       "strong multicollinearity or other numerical problems.\n",
       "\"\"\""
      ]
     },
     "execution_count": 12,
     "metadata": {},
     "output_type": "execute_result"
    }
   ],
   "source": [
    "data_lm.summary2()"
   ]
  },
  {
   "cell_type": "code",
   "execution_count": 13,
   "id": "9fd44298",
   "metadata": {},
   "outputs": [],
   "source": [
    "#predict valuse ,Test data set\n",
    "y_pred_test = data_lm.predict(x_test)\n",
    "y_pred_train = data_lm.predict(x_train)"
   ]
  },
  {
   "cell_type": "code",
   "execution_count": 14,
   "id": "52a0adca",
   "metadata": {},
   "outputs": [
    {
     "data": {
      "text/plain": [
       "0.9782099910743176"
      ]
     },
     "execution_count": 14,
     "metadata": {},
     "output_type": "execute_result"
    }
   ],
   "source": [
    "np.abs(r2_score(y_train,y_pred_train))\n",
    "#np.abs(r2_score(y_test,y_pred_test))"
   ]
  },
  {
   "cell_type": "code",
   "execution_count": 15,
   "id": "52a06ab2",
   "metadata": {},
   "outputs": [
    {
     "data": {
      "text/plain": [
       "4.507247790236155"
      ]
     },
     "execution_count": 15,
     "metadata": {},
     "output_type": "execute_result"
    }
   ],
   "source": [
    "# measure accuracy of the predictions\n",
    "# calculate the root mean squared error\n",
    "# this method measures the average error the model makes while making the predictions/outcome\n",
    "#the smaller the valus the better the model is\n",
    "np.sqrt(mean_squared_error(y_train, y_pred_train))\n",
    "#np.sqrt(mean_squared_error(y_test, y_pred_test))"
   ]
  },
  {
   "cell_type": "code",
   "execution_count": 16,
   "id": "8f30198d",
   "metadata": {},
   "outputs": [
    {
     "data": {
      "image/png": "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\n",
      "text/plain": [
       "<Figure size 2000x1500 with 1 Axes>"
      ]
     },
     "metadata": {},
     "output_type": "display_data"
    }
   ],
   "source": [
    "plt.figure(figsize = (20,15))\n",
    "plt.scatter(y_train, y_pred_train, c = 'red')\n",
    "plt.plot([y_train.min(), y_train.max()], [y_train.min(), y_train.max()],linestyle = 'solid', c = 'green', lw = 3)\n",
    "plt.xlabel(\"actual vals\")\n",
    "plt.ylabel(\"predicted vals\")\n",
    "plt.show()"
   ]
  }
 ],
 "metadata": {
  "kernelspec": {
   "display_name": "Python 3 (ipykernel)",
   "language": "python",
   "name": "python3"
  },
  "language_info": {
   "codemirror_mode": {
    "name": "ipython",
    "version": 3
   },
   "file_extension": ".py",
   "mimetype": "text/x-python",
   "name": "python",
   "nbconvert_exporter": "python",
   "pygments_lexer": "ipython3",
   "version": "3.9.13"
  }
 },
 "nbformat": 4,
 "nbformat_minor": 5
}
